{
 "cells": [
  {
   "cell_type": "code",
   "execution_count": 1,
   "metadata": {},
   "outputs": [],
   "source": [
    "import functools"
   ]
  },
  {
   "cell_type": "code",
   "execution_count": 8,
   "metadata": {},
   "outputs": [],
   "source": [
    "def meudecorador(funcao):\n",
    "    @functools.wraps(funcao)\n",
    "    def func_que_roda_funcao():\n",
    "        print(\"********************Embrulhando função no decorador********************\")\n",
    "        funcao()\n",
    "        print(\"********************Fechando função no decorador********************\")\n",
    "    return func_que_roda_funcao    "
   ]
  },
  {
   "cell_type": "code",
   "execution_count": 9,
   "metadata": {},
   "outputs": [],
   "source": [
    "@meudecorador\n",
    "def minha_funcao():\n",
    "    print(\"Eu sou uma função!\")"
   ]
  },
  {
   "cell_type": "code",
   "execution_count": 10,
   "metadata": {},
   "outputs": [
    {
     "name": "stdout",
     "output_type": "stream",
     "text": [
      "********************Embrulhando função no decorador********************\n",
      "Eu sou uma função!\n",
      "********************Fechando função no decorador********************\n"
     ]
    }
   ],
   "source": [
    "minha_funcao()"
   ]
  },
  {
   "cell_type": "code",
   "execution_count": null,
   "metadata": {},
   "outputs": [],
   "source": []
  }
 ],
 "metadata": {
  "kernelspec": {
   "display_name": "Python 3",
   "language": "python",
   "name": "python3"
  },
  "language_info": {
   "codemirror_mode": {
    "name": "ipython",
    "version": 3
   },
   "file_extension": ".py",
   "mimetype": "text/x-python",
   "name": "python",
   "nbconvert_exporter": "python",
   "pygments_lexer": "ipython3",
   "version": "3.7.4"
  }
 },
 "nbformat": 4,
 "nbformat_minor": 2
}
